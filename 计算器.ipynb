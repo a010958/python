{
 "cells": [
  {
   "cell_type": "markdown",
   "metadata": {},
   "source": [
    "@tkinter-计算器\n",
    ".模拟系统"
   ]
  },
  {
   "cell_type": "code",
   "execution_count": 46,
   "metadata": {},
   "outputs": [
    {
     "name": "stderr",
     "output_type": "stream",
     "text": [
      "Exception in Tkinter callback\n",
      "Traceback (most recent call last):\n",
      "  File \"h:\\Users\\Administrator\\Anaconda3\\lib\\tkinter\\__init__.py\", line 1702, in __call__\n",
      "    return self.func(*args)\n",
      "  File \"<ipython-input-46-8aec67c6cfd3>\", line 55, in <lambda>\n",
      "    b_jia = Button(frame_bord,text='+',width=5,height=2,            command=lambda:operation(\"+\"))\n",
      "NameError: name 'operation' is not defined\n"
     ]
    },
    {
     "name": "stdout",
     "output_type": "stream",
     "text": [
      "9\n",
      "8\n",
      "7\n",
      "4\n",
      "5\n",
      "6\n",
      "3\n",
      "2\n",
      "1\n",
      "我被删除了\n",
      "clear\n",
      "fan\n",
      "clear\n"
     ]
    }
   ],
   "source": [
    "#第一步：画出图形界面\n",
    "from tkinter import *\n",
    "root = Tk()\n",
    "#定义面板的大小\n",
    "root.geometry('250x300')\n",
    "root.title('计算器')\n",
    "#定义面板\n",
    "#bg代表北京颜色（background),#dddddd是十六进制表示颜色的一个窜\n",
    "frame_show = Frame(width=300,height=150,bg='#dddddd')\n",
    "frame_show.pack()\n",
    "#定义顶部区域\n",
    "sv = StringVar()\n",
    "sv.set('0')\n",
    "#anchor:定义控件的锚点，e代表右边\n",
    "#font：代表字体\n",
    "show_label = Label(frame_show,textvariable=sv,\\\n",
    "                  bg='green',width=12,height=1,\\\n",
    "                  font=('黑体',20,'bold'),\\\n",
    "                  justify=LEFT,anchor='e')\n",
    "show_label.pack(padx=10,pady=10)\n",
    "def delete():\n",
    "    print(\"我被删除了\")\n",
    "def clear():\n",
    "    print(\"clear\")\n",
    "def fan():\n",
    "    print(\"fan\")\n",
    "#按键区域\n",
    "frame_bord = Frame(width=400,height=350,bg='#cccccc')\n",
    "b_del = Button(frame_bord,text=\"←\",width=5,height=1,\\\n",
    "               command=delete)\n",
    "b_del.grid(row=0,column=0)\n",
    "button_clear = Button(frame_bord,text='c',width =5,height=1,\\\n",
    "                    command = clear).grid(row =0,column=1)\n",
    "button_fan = Button(frame_bord,text='c',width =5,height=1,\\\n",
    "                    command = fan).grid(row =0,column=2)\n",
    "button_ce = Button(frame_bord,text='c',width =5,height=1,\\\n",
    "                    command = clear).grid(row =0,column=3)\n",
    "def change(num):\n",
    "    print(num)\n",
    "\n",
    "b_1 = Button(frame_bord,text='1',width=5,height=2,\\\n",
    "            command=lambda:change(\"1\"))\n",
    "b_1.grid(row=1,column=0)\n",
    "\n",
    "b_2 = Button(frame_bord,text='2',width=5,height=2,\\\n",
    "            command=lambda:change(\"2\"))\n",
    "b_2.grid(row=1,column=1)\n",
    "\n",
    "\n",
    "b_3 = Button(frame_bord,text='3',width=5,height=2,\\\n",
    "            command=lambda:change(\"3\"))\n",
    "b_3.grid(row=1,column=2)\n",
    "b_4 = Button(frame_bord,text='4',width=5,height=2,\\\n",
    "            command=lambda:change(\"4\"))\n",
    "b_4.grid(row=2,column=0)\n",
    "b_5 = Button(frame_bord,text='5',width=5,height=2,\\\n",
    "            command=lambda:change(\"5\"))\n",
    "b_5.grid(row=2,column=1)\n",
    "b_6 = Button(frame_bord,text='6',width=5,height=2,\\\n",
    "            command=lambda:change(\"6\"))\n",
    "b_6.grid(row=2,column=2)\n",
    "b_7 = Button(frame_bord,text='7',width=5,height=2,\\\n",
    "            command=lambda:change(\"7\"))\n",
    "b_7.grid(row=3,column=0)\n",
    "b_8 = Button(frame_bord,text='8',width=5,height=2,\\\n",
    "            command=lambda:change(\"8\"))\n",
    "b_8.grid(row=3,column=1)\n",
    "b_9 = Button(frame_bord,text='9',width=5,height=2,\\\n",
    "            command=lambda:change(\"9\"))\n",
    "b_9.grid(row=3,column=2)\n",
    "b_jia = Button(frame_bord,text='+',width=5,height=2,\\\n",
    "            command=lambda:operation(\"+\"))\n",
    "b_jia.grid(row=3,column=3)\n",
    "\n",
    "\n",
    "frame_bord.pack(padx=10,pady=10)\n",
    "\n",
    "root.mainloop()"
   ]
  },
  {
   "cell_type": "code",
   "execution_count": null,
   "metadata": {},
   "outputs": [],
   "source": []
  },
  {
   "cell_type": "code",
   "execution_count": null,
   "metadata": {},
   "outputs": [],
   "source": []
  },
  {
   "cell_type": "code",
   "execution_count": null,
   "metadata": {},
   "outputs": [],
   "source": []
  },
  {
   "cell_type": "code",
   "execution_count": null,
   "metadata": {},
   "outputs": [],
   "source": []
  },
  {
   "cell_type": "code",
   "execution_count": null,
   "metadata": {},
   "outputs": [],
   "source": []
  },
  {
   "cell_type": "code",
   "execution_count": null,
   "metadata": {},
   "outputs": [],
   "source": []
  },
  {
   "cell_type": "code",
   "execution_count": null,
   "metadata": {},
   "outputs": [],
   "source": []
  },
  {
   "cell_type": "code",
   "execution_count": null,
   "metadata": {},
   "outputs": [],
   "source": []
  },
  {
   "cell_type": "code",
   "execution_count": null,
   "metadata": {},
   "outputs": [],
   "source": []
  },
  {
   "cell_type": "code",
   "execution_count": null,
   "metadata": {},
   "outputs": [],
   "source": []
  },
  {
   "cell_type": "code",
   "execution_count": null,
   "metadata": {},
   "outputs": [],
   "source": []
  },
  {
   "cell_type": "code",
   "execution_count": null,
   "metadata": {},
   "outputs": [],
   "source": []
  },
  {
   "cell_type": "code",
   "execution_count": null,
   "metadata": {},
   "outputs": [],
   "source": []
  },
  {
   "cell_type": "code",
   "execution_count": null,
   "metadata": {},
   "outputs": [],
   "source": []
  },
  {
   "cell_type": "code",
   "execution_count": null,
   "metadata": {},
   "outputs": [],
   "source": []
  },
  {
   "cell_type": "code",
   "execution_count": null,
   "metadata": {},
   "outputs": [],
   "source": []
  },
  {
   "cell_type": "code",
   "execution_count": null,
   "metadata": {},
   "outputs": [],
   "source": []
  },
  {
   "cell_type": "code",
   "execution_count": null,
   "metadata": {},
   "outputs": [],
   "source": []
  },
  {
   "cell_type": "code",
   "execution_count": null,
   "metadata": {},
   "outputs": [],
   "source": []
  },
  {
   "cell_type": "code",
   "execution_count": null,
   "metadata": {},
   "outputs": [],
   "source": []
  },
  {
   "cell_type": "code",
   "execution_count": null,
   "metadata": {},
   "outputs": [],
   "source": []
  },
  {
   "cell_type": "code",
   "execution_count": null,
   "metadata": {},
   "outputs": [],
   "source": []
  },
  {
   "cell_type": "code",
   "execution_count": null,
   "metadata": {},
   "outputs": [],
   "source": []
  },
  {
   "cell_type": "code",
   "execution_count": null,
   "metadata": {},
   "outputs": [],
   "source": []
  },
  {
   "cell_type": "code",
   "execution_count": null,
   "metadata": {},
   "outputs": [],
   "source": []
  },
  {
   "cell_type": "code",
   "execution_count": null,
   "metadata": {},
   "outputs": [],
   "source": []
  },
  {
   "cell_type": "code",
   "execution_count": null,
   "metadata": {},
   "outputs": [],
   "source": []
  },
  {
   "cell_type": "code",
   "execution_count": null,
   "metadata": {},
   "outputs": [],
   "source": []
  },
  {
   "cell_type": "code",
   "execution_count": null,
   "metadata": {},
   "outputs": [],
   "source": []
  },
  {
   "cell_type": "code",
   "execution_count": null,
   "metadata": {},
   "outputs": [],
   "source": []
  },
  {
   "cell_type": "code",
   "execution_count": null,
   "metadata": {},
   "outputs": [],
   "source": []
  },
  {
   "cell_type": "code",
   "execution_count": null,
   "metadata": {},
   "outputs": [],
   "source": []
  },
  {
   "cell_type": "code",
   "execution_count": null,
   "metadata": {},
   "outputs": [],
   "source": []
  },
  {
   "cell_type": "code",
   "execution_count": null,
   "metadata": {},
   "outputs": [],
   "source": []
  },
  {
   "cell_type": "code",
   "execution_count": null,
   "metadata": {},
   "outputs": [],
   "source": []
  },
  {
   "cell_type": "code",
   "execution_count": null,
   "metadata": {},
   "outputs": [],
   "source": []
  },
  {
   "cell_type": "code",
   "execution_count": null,
   "metadata": {},
   "outputs": [],
   "source": []
  },
  {
   "cell_type": "code",
   "execution_count": null,
   "metadata": {},
   "outputs": [],
   "source": []
  },
  {
   "cell_type": "code",
   "execution_count": null,
   "metadata": {},
   "outputs": [],
   "source": []
  },
  {
   "cell_type": "code",
   "execution_count": null,
   "metadata": {},
   "outputs": [],
   "source": []
  },
  {
   "cell_type": "code",
   "execution_count": null,
   "metadata": {},
   "outputs": [],
   "source": []
  },
  {
   "cell_type": "code",
   "execution_count": null,
   "metadata": {},
   "outputs": [],
   "source": []
  },
  {
   "cell_type": "code",
   "execution_count": null,
   "metadata": {},
   "outputs": [],
   "source": []
  },
  {
   "cell_type": "code",
   "execution_count": null,
   "metadata": {},
   "outputs": [],
   "source": []
  },
  {
   "cell_type": "code",
   "execution_count": null,
   "metadata": {},
   "outputs": [],
   "source": []
  },
  {
   "cell_type": "code",
   "execution_count": null,
   "metadata": {},
   "outputs": [],
   "source": []
  },
  {
   "cell_type": "code",
   "execution_count": null,
   "metadata": {},
   "outputs": [],
   "source": []
  },
  {
   "cell_type": "code",
   "execution_count": null,
   "metadata": {},
   "outputs": [],
   "source": []
  },
  {
   "cell_type": "code",
   "execution_count": null,
   "metadata": {},
   "outputs": [],
   "source": []
  },
  {
   "cell_type": "code",
   "execution_count": null,
   "metadata": {},
   "outputs": [],
   "source": []
  }
 ],
 "metadata": {
  "kernelspec": {
   "display_name": "Python 3",
   "language": "python",
   "name": "python3"
  },
  "language_info": {
   "codemirror_mode": {
    "name": "ipython",
    "version": 3
   },
   "file_extension": ".py",
   "mimetype": "text/x-python",
   "name": "python",
   "nbconvert_exporter": "python",
   "pygments_lexer": "ipython3",
   "version": "3.7.0"
  }
 },
 "nbformat": 4,
 "nbformat_minor": 2
}
